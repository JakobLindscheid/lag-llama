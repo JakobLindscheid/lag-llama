{
  "cells": [
    {
      "cell_type": "code",
      "execution_count": 1,
      "metadata": {
        "colab": {
          "base_uri": "https://localhost:8080/",
          "height": 123,
          "referenced_widgets": [
            "a8a1a8a4f360424ca0035433ea482f69",
            "3bc7d9644a7c4e76805ac027583187f0",
            "a4cb9d933d6646bdb07f74eb175d71f3",
            "802b0b33e42c496da266765c94e98d06",
            "6e59a689e12749338d614e62ca470c47",
            "2ba6a700d5e7423d93dd71a27e00ac0c",
            "ce6b530466164eb3add57217be1284d7",
            "e11ee3ee1ee1478192f608132669ec73",
            "a455455c6f714bb78fedb995b397795b",
            "4411fe36f51b40d9b90bc7111f37c4fb",
            "8d4f04148dde4d1a950e16992867d7a4"
          ]
        },
        "id": "vPBAO18DWT8A",
        "outputId": "1195190a-20e4-4e39-ab93-a66c0e56df3a"
      },
      "outputs": [],
      "source": [
        "from itertools import islice\n",
        "\n",
        "from matplotlib import pyplot as plt\n",
        "import matplotlib.dates as mdates\n",
        "from tqdm import tqdm\n",
        "\n",
        "import torch\n",
        "from gluonts.evaluation import make_evaluation_predictions, Evaluator\n",
        "from gluonts.dataset.repository.datasets import get_dataset, dataset_names\n",
        "\n",
        "from lag_llama.gluon.estimator import LagLlamaEstimator"
      ]
    },
    {
      "cell_type": "code",
      "execution_count": 2,
      "metadata": {},
      "outputs": [],
      "source": [
        "torch.set_float32_matmul_precision('medium')"
      ]
    },
    {
      "cell_type": "markdown",
      "metadata": {},
      "source": [
        "# Load Data"
      ]
    },
    {
      "cell_type": "code",
      "execution_count": 3,
      "metadata": {},
      "outputs": [
        {
          "name": "stdout",
          "output_type": "stream",
          "text": [
            "Available datasets: ['constant', 'exchange_rate', 'solar-energy', 'electricity', 'traffic', 'exchange_rate_nips', 'electricity_nips', 'traffic_nips', 'solar_nips', 'wiki2000_nips', 'wiki-rolling_nips', 'taxi_30min', 'kaggle_web_traffic_with_missing', 'kaggle_web_traffic_without_missing', 'kaggle_web_traffic_weekly', 'm1_yearly', 'm1_quarterly', 'm1_monthly', 'nn5_daily_with_missing', 'nn5_daily_without_missing', 'nn5_weekly', 'tourism_monthly', 'tourism_quarterly', 'tourism_yearly', 'cif_2016', 'london_smart_meters_without_missing', 'wind_farms_without_missing', 'car_parts_without_missing', 'dominick', 'fred_md', 'pedestrian_counts', 'hospital', 'covid_deaths', 'kdd_cup_2018_without_missing', 'weather', 'm3_monthly', 'm3_quarterly', 'm3_yearly', 'm3_other', 'm4_hourly', 'm4_daily', 'm4_weekly', 'm4_monthly', 'm4_quarterly', 'm4_yearly', 'm5', 'uber_tlc_daily', 'uber_tlc_hourly', 'airpassengers', 'australian_electricity_demand', 'electricity_hourly', 'electricity_weekly', 'rideshare_without_missing', 'saugeenday', 'solar_10_minutes', 'solar_weekly', 'sunspot_without_missing', 'temperature_rain_without_missing', 'vehicle_trips_without_missing']\n"
          ]
        }
      ],
      "source": [
        "print(f\"Available datasets: {dataset_names}\")"
      ]
    },
    {
      "cell_type": "code",
      "execution_count": 4,
      "metadata": {},
      "outputs": [
        {
          "name": "stderr",
          "output_type": "stream",
          "text": [
            "Download electricity_hourly_dataset.zip:: 11.3MB [00:03, 3.34MB/s]\n",
            "creating json files: 100%|██████████| 321/321 [00:00<?, ?it/s]\n",
            "Download london_smart_meters_dataset_without_missing_values.zip:: 209MB [00:40, 5.38MB/s]                            \n",
            "creating json files: 100%|██████████| 5560/5560 [00:00<00:00, 50042.88it/s]\n",
            "Download wind_farms_minutely_dataset_without_missing_values.zip:: 68.1MB [00:14, 4.85MB/s]                            \n",
            "creating json files: 100%|██████████| 339/339 [00:00<?, ?it/s]\n",
            "Download kdd_cup_2018_dataset_without_missing_values.zip:: 2.32MB [00:00, 3.04MB/s]\n",
            "creating json files: 100%|██████████| 270/270 [00:00<00:00, 268929.49it/s]\n",
            "Download sunspot_dataset_without_missing_values.zip:: 72.0kB [00:00, 109kB/s]\n",
            "creating json files: 100%|██████████| 1/1 [00:00<?, ?it/s]\n"
          ]
        }
      ],
      "source": [
        "# ETT, Beijing Multisite, UCI, Huawei cloud datasets missing\n",
        "pretraining_datasets = [\"traffic\", \"uber_tlc_hourly\", \"australian_electricity_demand\", \"electricity_hourly\", \"london_smart_meters_without_missing\", \"solar-energy\", \"wind_farms_without_missing\", \"kdd_cup_2018_without_missing\", \"sunspot_without_missing\"]\n",
        "datasets = [get_dataset(name) for name in pretraining_datasets]"
      ]
    },
    {
      "cell_type": "code",
      "execution_count": 5,
      "metadata": {},
      "outputs": [],
      "source": [
        "combined_ds = [ts for ds in datasets for ts in iter(ds.train)]"
      ]
    },
    {
      "cell_type": "markdown",
      "metadata": {},
      "source": [
        "# Pre-Training"
      ]
    },
    {
      "cell_type": "code",
      "execution_count": 6,
      "metadata": {},
      "outputs": [],
      "source": [
        "device = \"cuda\"\n",
        "nonnegative_pred_samples = True\n",
        "batch_size = 256 # from paper\n",
        "num_samples = 100 # from paper"
      ]
    },
    {
      "cell_type": "code",
      "execution_count": 7,
      "metadata": {},
      "outputs": [],
      "source": [
        "prediction_length = 24\n",
        "context_length = 24 * 3"
      ]
    },
    {
      "cell_type": "code",
      "execution_count": 8,
      "metadata": {},
      "outputs": [],
      "source": [
        "estimator = LagLlamaEstimator(\n",
        "    prediction_length=prediction_length,\n",
        "    context_length=context_length,\n",
        "\n",
        "    # estimator args\n",
        "    input_size=1, # ???\n",
        "    n_layer=8, # from paper\n",
        "    n_embd_per_head=16, # from paper\n",
        "    n_head=9, # from paper\n",
        "    scaling=\"robust\", # robust standardization\n",
        "    time_feat=True, # use time features\n",
        "\n",
        "    nonnegative_pred_samples=nonnegative_pred_samples,\n",
        "    aug_prob=0.5, # from paper\n",
        "    lr=1e-4, # from paper\n",
        "\n",
        "    # linear positional encoding scaling\n",
        "    rope_scaling={\n",
        "        \"type\": \"linear\",\n",
        "        \"factor\": max(1.0, (context_length + prediction_length) / 32), # 32 context length from paper\n",
        "    },\n",
        "\n",
        "    batch_size=batch_size,\n",
        "    num_parallel_samples=num_samples,\n",
        "    trainer_kwargs = {\"max_epochs\": 50,}, # <- lightning trainer arguments\n",
        ")\n",
        "\n",
        "lightning_module = estimator.create_lightning_module()\n",
        "transformation = estimator.create_transformation()\n",
        "predictor = estimator.create_predictor(transformation, lightning_module)"
      ]
    },
    {
      "cell_type": "code",
      "execution_count": 9,
      "metadata": {},
      "outputs": [
        {
          "name": "stderr",
          "output_type": "stream",
          "text": [
            "GPU available: True (cuda), used: True\n",
            "TPU available: False, using: 0 TPU cores\n",
            "IPU available: False, using: 0 IPUs\n",
            "HPU available: False, using: 0 HPUs\n",
            "c:\\Users\\jakob\\anaconda3\\envs\\lag-llama\\Lib\\site-packages\\lightning\\pytorch\\trainer\\connectors\\logger_connector\\logger_connector.py:67: Starting from v1.9.0, `tensorboardX` has been removed as a dependency of the `lightning.pytorch` package, due to potential conflicts with other packages in the ML ecosystem. For this reason, `logger=True` will use `CSVLogger` as the default logger, unless the `tensorboard` or `tensorboardX` packages are found. Please `pip install lightning[extra]` or one of them to enable TensorBoard support by default\n",
            "c:\\Users\\jakob\\anaconda3\\envs\\lag-llama\\Lib\\site-packages\\lightning\\pytorch\\trainer\\configuration_validator.py:74: You defined a `validation_step` but have no `val_dataloader`. Skipping val loop.\n",
            "LOCAL_RANK: 0 - CUDA_VISIBLE_DEVICES: [0]\n",
            "\n",
            "  | Name          | Type               | Params\n",
            "-----------------------------------------------------\n",
            "0 | model         | LagLlamaModel      | 2.4 M \n",
            "1 | augmentations | ApplyAugmentations | 0     \n",
            "-----------------------------------------------------\n",
            "2.4 M     Trainable params\n",
            "0         Non-trainable params\n",
            "2.4 M     Total params\n",
            "9.797     Total estimated model params size (MB)\n"
          ]
        },
        {
          "data": {
            "application/vnd.jupyter.widget-view+json": {
              "model_id": "1a909e883da24f1c8abf25916278096b",
              "version_major": 2,
              "version_minor": 0
            },
            "text/plain": [
              "Training: |          | 0/? [00:00<?, ?it/s]"
            ]
          },
          "metadata": {},
          "output_type": "display_data"
        },
        {
          "name": "stderr",
          "output_type": "stream",
          "text": [
            "g:\\Meine Ablage\\Master\\Semester 2\\Advances in Deep Learning\\lag-llama\\lag_llama\\model\\module.py:316: UserWarning: 1Torch was not compiled with flash attention. (Triggered internally at C:\\cb\\pytorch_1000000000000\\work\\aten\\src\\ATen\\native\\transformers\\cuda\\sdp_utils.cpp:263.)\n",
            "  y = F.scaled_dot_product_attention(\n",
            "Epoch 0, global step 50: 'train_loss' reached 1.26134 (best 1.26134), saving model to 'g:\\\\Meine Ablage\\\\Master\\\\Semester 2\\\\Advances in Deep Learning\\\\lag-llama\\\\lightning_logs\\\\version_3\\\\checkpoints\\\\epoch=0-step=50.ckpt' as top 1\n",
            "Epoch 1, global step 100: 'train_loss' reached -1.07671 (best -1.07671), saving model to 'g:\\\\Meine Ablage\\\\Master\\\\Semester 2\\\\Advances in Deep Learning\\\\lag-llama\\\\lightning_logs\\\\version_3\\\\checkpoints\\\\epoch=1-step=100.ckpt' as top 1\n",
            "Epoch 2, global step 150: 'train_loss' reached -2.21497 (best -2.21497), saving model to 'g:\\\\Meine Ablage\\\\Master\\\\Semester 2\\\\Advances in Deep Learning\\\\lag-llama\\\\lightning_logs\\\\version_3\\\\checkpoints\\\\epoch=2-step=150.ckpt' as top 1\n",
            "Epoch 3, global step 200: 'train_loss' reached -5.08599 (best -5.08599), saving model to 'g:\\\\Meine Ablage\\\\Master\\\\Semester 2\\\\Advances in Deep Learning\\\\lag-llama\\\\lightning_logs\\\\version_3\\\\checkpoints\\\\epoch=3-step=200.ckpt' as top 1\n",
            "Epoch 4, global step 250: 'train_loss' was not in top 1\n",
            "Epoch 5, global step 300: 'train_loss' was not in top 1\n",
            "Epoch 6, global step 350: 'train_loss' reached -6.01481 (best -6.01481), saving model to 'g:\\\\Meine Ablage\\\\Master\\\\Semester 2\\\\Advances in Deep Learning\\\\lag-llama\\\\lightning_logs\\\\version_3\\\\checkpoints\\\\epoch=6-step=350.ckpt' as top 1\n",
            "Epoch 7, global step 400: 'train_loss' was not in top 1\n",
            "Epoch 8, global step 450: 'train_loss' was not in top 1\n",
            "Epoch 9, global step 500: 'train_loss' reached -6.14551 (best -6.14551), saving model to 'g:\\\\Meine Ablage\\\\Master\\\\Semester 2\\\\Advances in Deep Learning\\\\lag-llama\\\\lightning_logs\\\\version_3\\\\checkpoints\\\\epoch=9-step=500.ckpt' as top 1\n",
            "Epoch 10, global step 550: 'train_loss' was not in top 1\n",
            "Epoch 11, global step 600: 'train_loss' was not in top 1\n",
            "Epoch 12, global step 650: 'train_loss' was not in top 1\n",
            "Epoch 13, global step 700: 'train_loss' was not in top 1\n",
            "Epoch 14, global step 750: 'train_loss' was not in top 1\n",
            "Epoch 15, global step 800: 'train_loss' was not in top 1\n",
            "Epoch 16, global step 850: 'train_loss' was not in top 1\n",
            "Epoch 17, global step 900: 'train_loss' was not in top 1\n",
            "Epoch 18, global step 950: 'train_loss' was not in top 1\n",
            "Epoch 19, global step 1000: 'train_loss' was not in top 1\n",
            "Epoch 20, global step 1050: 'train_loss' was not in top 1\n",
            "Epoch 21, global step 1100: 'train_loss' was not in top 1\n",
            "Epoch 22, global step 1150: 'train_loss' was not in top 1\n",
            "Epoch 23, global step 1200: 'train_loss' was not in top 1\n",
            "Epoch 24, global step 1250: 'train_loss' was not in top 1\n",
            "Epoch 25, global step 1300: 'train_loss' was not in top 1\n",
            "Epoch 26, global step 1350: 'train_loss' was not in top 1\n",
            "Epoch 27, global step 1400: 'train_loss' was not in top 1\n",
            "Epoch 28, global step 1450: 'train_loss' was not in top 1\n",
            "Epoch 29, global step 1500: 'train_loss' was not in top 1\n",
            "Epoch 30, global step 1550: 'train_loss' was not in top 1\n",
            "Epoch 31, global step 1600: 'train_loss' was not in top 1\n",
            "Epoch 32, global step 1650: 'train_loss' was not in top 1\n",
            "Epoch 33, global step 1700: 'train_loss' was not in top 1\n",
            "Epoch 34, global step 1750: 'train_loss' was not in top 1\n",
            "Epoch 35, global step 1800: 'train_loss' was not in top 1\n",
            "Epoch 36, global step 1850: 'train_loss' was not in top 1\n",
            "Epoch 37, global step 1900: 'train_loss' was not in top 1\n",
            "Epoch 38, global step 1950: 'train_loss' was not in top 1\n",
            "Epoch 39, global step 2000: 'train_loss' was not in top 1\n",
            "Epoch 40, global step 2050: 'train_loss' was not in top 1\n",
            "Epoch 41, global step 2100: 'train_loss' was not in top 1\n",
            "Epoch 42, global step 2150: 'train_loss' was not in top 1\n",
            "Epoch 43, global step 2200: 'train_loss' was not in top 1\n",
            "Epoch 44, global step 2250: 'train_loss' was not in top 1\n",
            "Epoch 45, global step 2300: 'train_loss' was not in top 1\n",
            "Epoch 46, global step 2350: 'train_loss' was not in top 1\n",
            "Epoch 47, global step 2400: 'train_loss' reached -6.95449 (best -6.95449), saving model to 'g:\\\\Meine Ablage\\\\Master\\\\Semester 2\\\\Advances in Deep Learning\\\\lag-llama\\\\lightning_logs\\\\version_3\\\\checkpoints\\\\epoch=47-step=2400.ckpt' as top 1\n",
            "Epoch 48, global step 2450: 'train_loss' was not in top 1\n",
            "Epoch 49, global step 2500: 'train_loss' was not in top 1\n",
            "`Trainer.fit` stopped: `max_epochs=50` reached.\n"
          ]
        }
      ],
      "source": [
        "predictor = estimator.train(combined_ds, cache_data=True, shuffle_buffer_length=1000)"
      ]
    }
  ],
  "metadata": {
    "accelerator": "GPU",
    "colab": {
      "gpuType": "T4",
      "provenance": [],
      "toc_visible": true
    },
    "kernelspec": {
      "display_name": "Python 3",
      "name": "python3"
    },
    "language_info": {
      "codemirror_mode": {
        "name": "ipython",
        "version": 3
      },
      "file_extension": ".py",
      "mimetype": "text/x-python",
      "name": "python",
      "nbconvert_exporter": "python",
      "pygments_lexer": "ipython3",
      "version": "3.11.7"
    },
    "widgets": {
      "application/vnd.jupyter.widget-state+json": {
        "2ba6a700d5e7423d93dd71a27e00ac0c": {
          "model_module": "@jupyter-widgets/base",
          "model_module_version": "1.2.0",
          "model_name": "LayoutModel",
          "state": {
            "_model_module": "@jupyter-widgets/base",
            "_model_module_version": "1.2.0",
            "_model_name": "LayoutModel",
            "_view_count": null,
            "_view_module": "@jupyter-widgets/base",
            "_view_module_version": "1.2.0",
            "_view_name": "LayoutView",
            "align_content": null,
            "align_items": null,
            "align_self": null,
            "border": null,
            "bottom": null,
            "display": null,
            "flex": null,
            "flex_flow": null,
            "grid_area": null,
            "grid_auto_columns": null,
            "grid_auto_flow": null,
            "grid_auto_rows": null,
            "grid_column": null,
            "grid_gap": null,
            "grid_row": null,
            "grid_template_areas": null,
            "grid_template_columns": null,
            "grid_template_rows": null,
            "height": null,
            "justify_content": null,
            "justify_items": null,
            "left": null,
            "margin": null,
            "max_height": null,
            "max_width": null,
            "min_height": null,
            "min_width": null,
            "object_fit": null,
            "object_position": null,
            "order": null,
            "overflow": null,
            "overflow_x": null,
            "overflow_y": null,
            "padding": null,
            "right": null,
            "top": null,
            "visibility": null,
            "width": null
          }
        },
        "3bc7d9644a7c4e76805ac027583187f0": {
          "model_module": "@jupyter-widgets/controls",
          "model_module_version": "1.5.0",
          "model_name": "HTMLModel",
          "state": {
            "_dom_classes": [],
            "_model_module": "@jupyter-widgets/controls",
            "_model_module_version": "1.5.0",
            "_model_name": "HTMLModel",
            "_view_count": null,
            "_view_module": "@jupyter-widgets/controls",
            "_view_module_version": "1.5.0",
            "_view_name": "HTMLView",
            "description": "",
            "description_tooltip": null,
            "layout": "IPY_MODEL_2ba6a700d5e7423d93dd71a27e00ac0c",
            "placeholder": "​",
            "style": "IPY_MODEL_ce6b530466164eb3add57217be1284d7",
            "value": ""
          }
        },
        "4411fe36f51b40d9b90bc7111f37c4fb": {
          "model_module": "@jupyter-widgets/base",
          "model_module_version": "1.2.0",
          "model_name": "LayoutModel",
          "state": {
            "_model_module": "@jupyter-widgets/base",
            "_model_module_version": "1.2.0",
            "_model_name": "LayoutModel",
            "_view_count": null,
            "_view_module": "@jupyter-widgets/base",
            "_view_module_version": "1.2.0",
            "_view_name": "LayoutView",
            "align_content": null,
            "align_items": null,
            "align_self": null,
            "border": null,
            "bottom": null,
            "display": null,
            "flex": null,
            "flex_flow": null,
            "grid_area": null,
            "grid_auto_columns": null,
            "grid_auto_flow": null,
            "grid_auto_rows": null,
            "grid_column": null,
            "grid_gap": null,
            "grid_row": null,
            "grid_template_areas": null,
            "grid_template_columns": null,
            "grid_template_rows": null,
            "height": null,
            "justify_content": null,
            "justify_items": null,
            "left": null,
            "margin": null,
            "max_height": null,
            "max_width": null,
            "min_height": null,
            "min_width": null,
            "object_fit": null,
            "object_position": null,
            "order": null,
            "overflow": null,
            "overflow_x": null,
            "overflow_y": null,
            "padding": null,
            "right": null,
            "top": null,
            "visibility": null,
            "width": null
          }
        },
        "6e59a689e12749338d614e62ca470c47": {
          "model_module": "@jupyter-widgets/base",
          "model_module_version": "1.2.0",
          "model_name": "LayoutModel",
          "state": {
            "_model_module": "@jupyter-widgets/base",
            "_model_module_version": "1.2.0",
            "_model_name": "LayoutModel",
            "_view_count": null,
            "_view_module": "@jupyter-widgets/base",
            "_view_module_version": "1.2.0",
            "_view_name": "LayoutView",
            "align_content": null,
            "align_items": null,
            "align_self": null,
            "border": null,
            "bottom": null,
            "display": null,
            "flex": null,
            "flex_flow": null,
            "grid_area": null,
            "grid_auto_columns": null,
            "grid_auto_flow": null,
            "grid_auto_rows": null,
            "grid_column": null,
            "grid_gap": null,
            "grid_row": null,
            "grid_template_areas": null,
            "grid_template_columns": null,
            "grid_template_rows": null,
            "height": null,
            "justify_content": null,
            "justify_items": null,
            "left": null,
            "margin": null,
            "max_height": null,
            "max_width": null,
            "min_height": null,
            "min_width": null,
            "object_fit": null,
            "object_position": null,
            "order": null,
            "overflow": null,
            "overflow_x": null,
            "overflow_y": null,
            "padding": null,
            "right": null,
            "top": null,
            "visibility": null,
            "width": null
          }
        },
        "802b0b33e42c496da266765c94e98d06": {
          "model_module": "@jupyter-widgets/controls",
          "model_module_version": "1.5.0",
          "model_name": "HTMLModel",
          "state": {
            "_dom_classes": [],
            "_model_module": "@jupyter-widgets/controls",
            "_model_module_version": "1.5.0",
            "_model_name": "HTMLModel",
            "_view_count": null,
            "_view_module": "@jupyter-widgets/controls",
            "_view_module_version": "1.5.0",
            "_view_name": "HTMLView",
            "description": "",
            "description_tooltip": null,
            "layout": "IPY_MODEL_4411fe36f51b40d9b90bc7111f37c4fb",
            "placeholder": "​",
            "style": "IPY_MODEL_8d4f04148dde4d1a950e16992867d7a4",
            "value": " 0/0 [00:00&lt;?, ?it/s]"
          }
        },
        "8d4f04148dde4d1a950e16992867d7a4": {
          "model_module": "@jupyter-widgets/controls",
          "model_module_version": "1.5.0",
          "model_name": "DescriptionStyleModel",
          "state": {
            "_model_module": "@jupyter-widgets/controls",
            "_model_module_version": "1.5.0",
            "_model_name": "DescriptionStyleModel",
            "_view_count": null,
            "_view_module": "@jupyter-widgets/base",
            "_view_module_version": "1.2.0",
            "_view_name": "StyleView",
            "description_width": ""
          }
        },
        "a455455c6f714bb78fedb995b397795b": {
          "model_module": "@jupyter-widgets/controls",
          "model_module_version": "1.5.0",
          "model_name": "ProgressStyleModel",
          "state": {
            "_model_module": "@jupyter-widgets/controls",
            "_model_module_version": "1.5.0",
            "_model_name": "ProgressStyleModel",
            "_view_count": null,
            "_view_module": "@jupyter-widgets/base",
            "_view_module_version": "1.2.0",
            "_view_name": "StyleView",
            "bar_color": null,
            "description_width": ""
          }
        },
        "a4cb9d933d6646bdb07f74eb175d71f3": {
          "model_module": "@jupyter-widgets/controls",
          "model_module_version": "1.5.0",
          "model_name": "FloatProgressModel",
          "state": {
            "_dom_classes": [],
            "_model_module": "@jupyter-widgets/controls",
            "_model_module_version": "1.5.0",
            "_model_name": "FloatProgressModel",
            "_view_count": null,
            "_view_module": "@jupyter-widgets/controls",
            "_view_module_version": "1.5.0",
            "_view_name": "ProgressView",
            "bar_style": "success",
            "description": "",
            "description_tooltip": null,
            "layout": "IPY_MODEL_e11ee3ee1ee1478192f608132669ec73",
            "max": 1,
            "min": 0,
            "orientation": "horizontal",
            "style": "IPY_MODEL_a455455c6f714bb78fedb995b397795b",
            "value": 0
          }
        },
        "a8a1a8a4f360424ca0035433ea482f69": {
          "model_module": "@jupyter-widgets/controls",
          "model_module_version": "1.5.0",
          "model_name": "HBoxModel",
          "state": {
            "_dom_classes": [],
            "_model_module": "@jupyter-widgets/controls",
            "_model_module_version": "1.5.0",
            "_model_name": "HBoxModel",
            "_view_count": null,
            "_view_module": "@jupyter-widgets/controls",
            "_view_module_version": "1.5.0",
            "_view_name": "HBoxView",
            "box_style": "",
            "children": [
              "IPY_MODEL_3bc7d9644a7c4e76805ac027583187f0",
              "IPY_MODEL_a4cb9d933d6646bdb07f74eb175d71f3",
              "IPY_MODEL_802b0b33e42c496da266765c94e98d06"
            ],
            "layout": "IPY_MODEL_6e59a689e12749338d614e62ca470c47"
          }
        },
        "ce6b530466164eb3add57217be1284d7": {
          "model_module": "@jupyter-widgets/controls",
          "model_module_version": "1.5.0",
          "model_name": "DescriptionStyleModel",
          "state": {
            "_model_module": "@jupyter-widgets/controls",
            "_model_module_version": "1.5.0",
            "_model_name": "DescriptionStyleModel",
            "_view_count": null,
            "_view_module": "@jupyter-widgets/base",
            "_view_module_version": "1.2.0",
            "_view_name": "StyleView",
            "description_width": ""
          }
        },
        "e11ee3ee1ee1478192f608132669ec73": {
          "model_module": "@jupyter-widgets/base",
          "model_module_version": "1.2.0",
          "model_name": "LayoutModel",
          "state": {
            "_model_module": "@jupyter-widgets/base",
            "_model_module_version": "1.2.0",
            "_model_name": "LayoutModel",
            "_view_count": null,
            "_view_module": "@jupyter-widgets/base",
            "_view_module_version": "1.2.0",
            "_view_name": "LayoutView",
            "align_content": null,
            "align_items": null,
            "align_self": null,
            "border": null,
            "bottom": null,
            "display": null,
            "flex": null,
            "flex_flow": null,
            "grid_area": null,
            "grid_auto_columns": null,
            "grid_auto_flow": null,
            "grid_auto_rows": null,
            "grid_column": null,
            "grid_gap": null,
            "grid_row": null,
            "grid_template_areas": null,
            "grid_template_columns": null,
            "grid_template_rows": null,
            "height": null,
            "justify_content": null,
            "justify_items": null,
            "left": null,
            "margin": null,
            "max_height": null,
            "max_width": null,
            "min_height": null,
            "min_width": null,
            "object_fit": null,
            "object_position": null,
            "order": null,
            "overflow": null,
            "overflow_x": null,
            "overflow_y": null,
            "padding": null,
            "right": null,
            "top": null,
            "visibility": null,
            "width": "20px"
          }
        }
      }
    }
  },
  "nbformat": 4,
  "nbformat_minor": 0
}
